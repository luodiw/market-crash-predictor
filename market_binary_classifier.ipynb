{
 "cells": [
  {
   "cell_type": "code",
   "execution_count": null,
   "metadata": {},
   "outputs": [],
   "source": [
    "# Convert CSV file into JSON data formatting\n",
    "# \t1.\tY: The target variable indicating whether an anomaly was detected on a specific date \n",
    "# (1 for anomaly, 0 for no anomaly). This likely serves as the classification label for anomaly detection.\n",
    "\n",
    "\n",
    "\n",
    "# \t1.\tY, Data: Likely represent the dependent variable (Y) and the date (Data) for time-series data.\n",
    "# \t2.\tXAU: Represents gold prices (commonly used symbol for gold in finance).\n",
    "# \t3.\tBGNL: Could stand for Bloomberg Generic Index, or a custom abbreviation.\n",
    "# \t4.\tECSURPUS: Economic surplus (specific to the U.S. or another economy).\n",
    "# \t5.\tBDIY: Baltic Dry Index, a measure of shipping and trade activity.\n",
    "# \t6.\tCRY: CRB Commodity Index, tracking commodity prices.\n",
    "# \t7.\tDXY: U.S. Dollar Index, a measure of the dollar’s strength against other currencies.\n",
    "# \t8.\tJPY, GBP: Exchange rates for Japanese Yen and British Pound, respectively.\n",
    "# \t9.\tCl1: WTI Crude Oil Futures (CL is the ticker for crude oil futures).\n",
    "# \t10.\tVIX: Volatility Index, measuring market volatility.\n",
    "# \t11.\tUSGG30YR, GT10, USGG2YR, USGG3M, US0001M: U.S. Treasury yields for 30-year, 10-year, 2-year, 3-month, and 1-month bonds.\n",
    "# \t12.\tGTDEM30Y, GTDEM10Y, GTDEM2Y: German government bond yields (30-year, 10-year, 2-year).\n",
    "# \t13.\tEONIA: Euro Overnight Index Average, a benchmark for euro interbank lending.\n",
    "# \t14.\tGTITL30YR, GTITL10YR, GTITL2YR: Italian government bond yields (30-year, 10-year, 2-year).\n",
    "# \t15.\tGTJPY30YR, GTJPY10YR, GTJPY2YR: Japanese government bond yields (30-year, 10-year, 2-year).\n",
    "# \t16.\tGTGBP30Y, GTGBP20Y, GTGBP2Y: British government bond yields (30-year, 20-year, 2-year).\n",
    "# \t17.\tLUMSTRUU: Likely a Bloomberg index, e.g., Bloomberg US Mortgage Backed Securities Index.\n",
    "# \t18.\tLMBITR: Bloomberg Municipal Bond Index Total Return.\n",
    "# \t19.\tLUACTRUU: Bloomberg U.S. Corporate Aggregate Total Return Index.\n",
    "# \t20.\tLF98TRUU: Bloomberg Global High Yield Index.\n",
    "# \t21.\tLG30TRUU: Bloomberg Global Aggregate 30-Year Total Return Index.\n",
    "# \t22.\tLP01TREU: Likely Bloomberg Pan-European Corporate Total Return Index.\n",
    "# \t23.\tEMUSTRUU: Bloomberg Eurozone Aggregate Total Return Index.\n",
    "# \t24.\tLF94TRUU: Bloomberg Global Emerging Market Corporate Total Return Index.\n",
    "# \t25.\tMXUS, MXEU, MXJP, MXBR, MXRU, MXIN, MXCN: MSCI indices for countries/regions (U.S., Europe, Japan, Brazil, Russia, India, China).\n"
   ]
  },
  {
   "cell_type": "code",
   "execution_count": null,
   "metadata": {},
   "outputs": [],
   "source": [
    "# Predict anomaly detection"
   ]
  }
 ],
 "metadata": {
  "language_info": {
   "name": "python"
  }
 },
 "nbformat": 4,
 "nbformat_minor": 2
}
