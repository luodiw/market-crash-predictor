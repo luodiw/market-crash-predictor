{
 "cells": [
  {
   "cell_type": "code",
   "execution_count": 21,
   "metadata": {},
   "outputs": [
    {
     "name": "stdout",
     "output_type": "stream",
     "text": [
      "   Y       Data  XAU BGNL  ECSURPUS    BDIY     CRY     DXY     JPY    GBP  \\\n",
      "0  0  1/11/2000    283.25     0.077  1388.0  157.26  100.56  105.86  1.646   \n",
      "1  0  1/18/2000    287.65     0.043  1405.0  165.01  101.86  105.47  1.638   \n",
      "2  0  1/25/2000    287.15     0.135  1368.0  167.24  102.41  106.04  1.650   \n",
      "3  0   2/1/2000    282.75     0.191  1311.0  166.85  104.92  107.85  1.611   \n",
      "4  1   2/8/2000    298.40     0.312  1277.0  165.43  104.22  109.30  1.611   \n",
      "\n",
      "     Cl1  ...  LP01TREU  EMUSTRUU  LF94TRUU     MXUS    MXEU     MXJP    MXBR  \\\n",
      "0  25.77  ...   116.464   230.527   123.762  1416.12  127.75   990.59  856.76   \n",
      "1  28.85  ...   117.267   231.377   123.762  1428.79  129.50   993.98  925.22   \n",
      "2  28.28  ...   117.995   232.390   123.762  1385.93  126.48   974.83  886.93   \n",
      "3  28.22  ...   120.510   231.942   122.328  1385.31  129.19  1007.12  842.60   \n",
      "4  28.02  ...   118.791   237.812   122.328  1411.95  134.67  1034.58  945.15   \n",
      "\n",
      "     MXRU    MXIN   MXCN  \n",
      "0  224.33  217.34  34.30  \n",
      "1  234.37  227.08  32.74  \n",
      "2  216.82  233.00  32.46  \n",
      "3  201.89  237.48  31.29  \n",
      "4  218.00  258.02  31.32  \n",
      "\n",
      "[5 rows x 44 columns] (1111, 44)\n"
     ]
    }
   ],
   "source": [
    "import pandas as pd\n",
    "\n",
    "file_path = 'FinancialMarketData.csv'\n",
    "df = pd.read_csv(file_path)\n",
    "print(df.head(), df.shape)"
   ]
  },
  {
   "cell_type": "markdown",
   "metadata": {},
   "source": [
    "Supervised data training!"
   ]
  },
  {
   "cell_type": "code",
   "execution_count": null,
   "metadata": {},
   "outputs": [],
   "source": [
    "# Convert CSV file into JSON data formatting\n",
    "# \t1.\tY: The target variable indicating whether an anomaly was detected on a specific date \n",
    "# (1 for anomaly, 0 for no anomaly). This likely serves as the classification label for anomaly detection.\n",
    "\n",
    "# from the requirements, the goal is to train and identify the most effective binary classification model. \n",
    "# If you finish with that then for milestone 2, backtest your classification model on more data \n",
    "# and see what results you get. The provided dataset only goes up until 2021, so you can use all \n",
    "# the data from 2021 onwards to backtest. See if your model is actually able to identify anomalies. \n",
    "# Come up with some kind of rule where if X index is > 20 and Y index is < 50, then sell stocks. \n",
    "# This is what the investment strategy for milestone 2 entails (edited) \n",
    "\n",
    "# For milestone 3 you can get creative in how you want to implement it. \n",
    "# It can be a discord bot, slack bot, web app, etc. The way I would do it \n",
    "# is pull in data with the yahoo finance api and use the classifier model \n",
    "# you trained for milestone 1 along with LLMs to explain it to the user and \n",
    "# suggest an investment strategy from there\n",
    "\n",
    "\n",
    "\n",
    "# \t1.\tY, Data: Likely represent the dependent variable (Y) and the date (Data) for time-series data.\n",
    "# \t2.\tXAU: Represents gold prices (commonly used symbol for gold in finance).\n",
    "# \t3.\tBGNL: Could stand for Bloomberg Generic Index, or a custom abbreviation.\n",
    "# \t4.\tECSURPUS: Economic surplus (specific to the U.S. or another economy).\n",
    "# \t5.\tBDIY: Baltic Dry Index, a measure of shipping and trade activity.\n",
    "# \t6.\tCRY: CRB Commodity Index, tracking commodity prices.\n",
    "# \t7.\tDXY: U.S. Dollar Index, a measure of the dollar’s strength against other currencies.\n",
    "# \t8.\tJPY, GBP: Exchange rates for Japanese Yen and British Pound, respectively.\n",
    "# \t9.\tCl1: WTI Crude Oil Futures (CL is the ticker for crude oil futures).\n",
    "# \t10.\tVIX: Volatility Index, measuring market volatility.\n",
    "# \t11.\tUSGG30YR, GT10, USGG2YR, USGG3M, US0001M: U.S. Treasury yields for 30-year, 10-year, 2-year, 3-month, and 1-month bonds.\n",
    "# \t12.\tGTDEM30Y, GTDEM10Y, GTDEM2Y: German government bond yields (30-year, 10-year, 2-year).\n",
    "# \t13.\tEONIA: Euro Overnight Index Average, a benchmark for euro interbank lending.\n",
    "# \t14.\tGTITL30YR, GTITL10YR, GTITL2YR: Italian government bond yields (30-year, 10-year, 2-year).\n",
    "# \t15.\tGTJPY30YR, GTJPY10YR, GTJPY2YR: Japanese government bond yields (30-year, 10-year, 2-year).\n",
    "# \t16.\tGTGBP30Y, GTGBP20Y, GTGBP2Y: British government bond yields (30-year, 20-year, 2-year).\n",
    "# \t17.\tLUMSTRUU: Likely a Bloomberg index, e.g., Bloomberg US Mortgage Backed Securities Index.\n",
    "# \t18.\tLMBITR: Bloomberg Municipal Bond Index Total Return.\n",
    "# \t19.\tLUACTRUU: Bloomberg U.S. Corporate Aggregate Total Return Index.\n",
    "# \t20.\tLF98TRUU: Bloomberg Global High Yield Index.\n",
    "# \t21.\tLG30TRUU: Bloomberg Global Aggregate 30-Year Total Return Index.\n",
    "# \t22.\tLP01TREU: Likely Bloomberg Pan-European Corporate Total Return Index.\n",
    "# \t23.\tEMUSTRUU: Bloomberg Eurozone Aggregate Total Return Index.\n",
    "# \t24.\tLF94TRUU: Bloomberg Global Emerging Market Corporate Total Return Index.\n",
    "# \t25.\tMXUS, MXEU, MXJP, MXBR, MXRU, MXIN, MXCN: MSCI indices for countries/regions (U.S., Europe, Japan, Brazil, Russia, India, China).\n"
   ]
  },
  {
   "cell_type": "markdown",
   "metadata": {},
   "source": [
    "Isolation Forest [Decision Trees]\n",
    "\n"
   ]
  },
  {
   "cell_type": "code",
   "execution_count": null,
   "metadata": {},
   "outputs": [],
   "source": [
    "# Predict anomaly detection"
   ]
  }
 ],
 "metadata": {
  "kernelspec": {
   "display_name": "Python 3",
   "language": "python",
   "name": "python3"
  },
  "language_info": {
   "codemirror_mode": {
    "name": "ipython",
    "version": 3
   },
   "file_extension": ".py",
   "mimetype": "text/x-python",
   "name": "python",
   "nbconvert_exporter": "python",
   "pygments_lexer": "ipython3",
   "version": "3.13.1"
  }
 },
 "nbformat": 4,
 "nbformat_minor": 2
}
